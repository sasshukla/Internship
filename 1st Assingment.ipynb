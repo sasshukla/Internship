{
 "cells": [
  {
   "cell_type": "markdown",
   "id": "442d940c",
   "metadata": {},
   "source": [
    "# Factorial Number"
   ]
  },
  {
   "cell_type": "code",
   "execution_count": 11,
   "id": "4df29a12",
   "metadata": {},
   "outputs": [],
   "source": [
    "def fac(n):\n",
    "    x=1\n",
    "    while n>1:\n",
    "        x=x*n\n",
    "        n= n-1 \n",
    "    return x   "
   ]
  },
  {
   "cell_type": "code",
   "execution_count": 17,
   "id": "12c26521",
   "metadata": {},
   "outputs": [
    {
     "data": {
      "text/plain": [
       "120"
      ]
     },
     "execution_count": 17,
     "metadata": {},
     "output_type": "execute_result"
    }
   ],
   "source": [
    "fac(5)"
   ]
  },
  {
   "cell_type": "markdown",
   "id": "dddf1c1d",
   "metadata": {},
   "source": [
    "# Prime Or Composite"
   ]
  },
  {
   "cell_type": "code",
   "execution_count": 101,
   "id": "58d5440a",
   "metadata": {},
   "outputs": [],
   "source": [
    "def pccheck(n):\n",
    "    if n>1:\n",
    "        for i in range(2,n):\n",
    "             if (n%i)==0:\n",
    "                print(n, \": is a Composite number\")\n",
    "                break\n",
    "        else:\n",
    "             print(n, \":is prime number\")\n",
    "        "
   ]
  },
  {
   "cell_type": "code",
   "execution_count": 103,
   "id": "141f2dd6",
   "metadata": {},
   "outputs": [
    {
     "name": "stdout",
     "output_type": "stream",
     "text": [
      "46 : is a Composite number\n"
     ]
    }
   ],
   "source": [
    "pccheck(46)"
   ]
  },
  {
   "cell_type": "markdown",
   "id": "f71e3574",
   "metadata": {},
   "source": [
    "# string is palindrome or not."
   ]
  },
  {
   "cell_type": "code",
   "execution_count": 145,
   "id": "a9fc9d61",
   "metadata": {},
   "outputs": [],
   "source": [
    "def pali(n):\n",
    "    if (n ==n[::-1]):\n",
    "        print(\"The string is palindrome\")\n",
    "    else:\n",
    "        print(\"The string isn't a palindrome\")\n",
    "    "
   ]
  },
  {
   "cell_type": "code",
   "execution_count": 150,
   "id": "7b920b38",
   "metadata": {},
   "outputs": [
    {
     "name": "stdout",
     "output_type": "stream",
     "text": [
      "The string is palindrome\n"
     ]
    }
   ],
   "source": [
    "pali(\"sds\")"
   ]
  },
  {
   "cell_type": "markdown",
   "id": "23e775f0",
   "metadata": {},
   "source": [
    "# Third side of right-angled triangle from two given sides."
   ]
  },
  {
   "cell_type": "code",
   "execution_count": 152,
   "id": "cfaff805",
   "metadata": {},
   "outputs": [],
   "source": [
    "import math\n",
    "def getside(x,y):\n",
    "    z = math.sqrt(x**2+y**2)\n",
    "    print('The third side if right-angled triangle is :', z )"
   ]
  },
  {
   "cell_type": "code",
   "execution_count": 153,
   "id": "f088c2cc",
   "metadata": {},
   "outputs": [
    {
     "name": "stdout",
     "output_type": "stream",
     "text": [
      "The third side if right-angled triangle is : 7.810249675906654\n"
     ]
    }
   ],
   "source": [
    "getside(5,6)"
   ]
  },
  {
   "cell_type": "markdown",
   "id": "aeb2ddbb",
   "metadata": {},
   "source": [
    "# Frequency of each of the characters present in a given string"
   ]
  },
  {
   "cell_type": "code",
   "execution_count": 22,
   "id": "39c9716c",
   "metadata": {},
   "outputs": [],
   "source": [
    "def char_frequency(str1):\n",
    "    dict = {}\n",
    "    for n in str1:\n",
    "        keys = dict.keys()\n",
    "        if n in keys:\n",
    "            dict[n] += 1\n",
    "        else:\n",
    "            dict[n] = 1\n",
    "    return dict\n"
   ]
  },
  {
   "cell_type": "code",
   "execution_count": 23,
   "id": "7ae87f29",
   "metadata": {},
   "outputs": [
    {
     "name": "stdout",
     "output_type": "stream",
     "text": [
      "{'g': 2, 'o': 3, 'l': 1, 'e': 1, '.': 1, 'c': 1, 'm': 1}\n"
     ]
    }
   ],
   "source": [
    "print(char_frequency('google.com'))"
   ]
  },
  {
   "cell_type": "code",
   "execution_count": null,
   "id": "cff72377",
   "metadata": {},
   "outputs": [],
   "source": []
  },
  {
   "cell_type": "code",
   "execution_count": null,
   "id": "80144387",
   "metadata": {},
   "outputs": [],
   "source": []
  }
 ],
 "metadata": {
  "kernelspec": {
   "display_name": "Python 3",
   "language": "python",
   "name": "python3"
  },
  "language_info": {
   "codemirror_mode": {
    "name": "ipython",
    "version": 3
   },
   "file_extension": ".py",
   "mimetype": "text/x-python",
   "name": "python",
   "nbconvert_exporter": "python",
   "pygments_lexer": "ipython3",
   "version": "3.8.8"
  }
 },
 "nbformat": 4,
 "nbformat_minor": 5
}
